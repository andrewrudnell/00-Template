{
 "metadata": {
  "language_info": {
   "codemirror_mode": {
    "name": "ipython",
    "version": 3
   },
   "file_extension": ".py",
   "mimetype": "text/x-python",
   "name": "python",
   "nbconvert_exporter": "python",
   "pygments_lexer": "ipython3",
   "version": "3.7.3-final"
  },
  "orig_nbformat": 2,
  "kernelspec": {
   "name": "python3",
   "display_name": "Python 3"
  }
 },
 "nbformat": 4,
 "nbformat_minor": 2,
 "cells": [
  {
   "cell_type": "code",
   "execution_count": 2,
   "metadata": {},
   "outputs": [],
   "source": [
    "import pandas as pd\n",
    "import numpy as np"
   ]
  },
  {
   "cell_type": "code",
   "execution_count": 3,
   "metadata": {},
   "outputs": [],
   "source": [
    "import os"
   ]
  },
  {
   "cell_type": "code",
   "execution_count": 4,
   "metadata": {},
   "outputs": [
    {
     "output_type": "execute_result",
     "data": {
      "text/plain": [
       "'/Users/andrewyoel/Downloads/tutorial python/00-Template'"
      ]
     },
     "metadata": {},
     "execution_count": 4
    }
   ],
   "source": [
    "os.getcwd()"
   ]
  },
  {
   "cell_type": "code",
   "execution_count": 5,
   "metadata": {},
   "outputs": [],
   "source": [
    "df= pd.read_excel('data kedelai skripsi .xlsx')"
   ]
  },
  {
   "cell_type": "code",
   "execution_count": 6,
   "metadata": {},
   "outputs": [],
   "source": [
    "X= df.iloc[:, 5:11].values\n",
    "dfx= pd.DataFrame(X)"
   ]
  },
  {
   "cell_type": "code",
   "execution_count": 7,
   "metadata": {},
   "outputs": [],
   "source": [
    "y= df.iloc[:, 3:4]\n",
    "dfy= pd.DataFrame(y)"
   ]
  },
  {
   "cell_type": "code",
   "execution_count": 8,
   "metadata": {},
   "outputs": [],
   "source": [
    "from sklearn.preprocessing import OneHotEncoder\n",
    "from sklearn.compose import ColumnTransformer\n",
    "from sklearn.model_selection import train_test_split"
   ]
  },
  {
   "cell_type": "code",
   "execution_count": 9,
   "metadata": {},
   "outputs": [],
   "source": [
    "X_train, X_test, y_train, y_test =train_test_split(X,y, test_size = 0.2, random_state = 0)"
   ]
  },
  {
   "cell_type": "code",
   "execution_count": 10,
   "metadata": {},
   "outputs": [
    {
     "output_type": "execute_result",
     "data": {
      "text/plain": [
       "LinearRegression(copy_X=True, fit_intercept=True, n_jobs=None, normalize=False)"
      ]
     },
     "metadata": {},
     "execution_count": 10
    }
   ],
   "source": [
    "from sklearn.linear_model import LinearRegression\n",
    "regressor = LinearRegression()\n",
    "regressor.fit(X_train, y_train)"
   ]
  },
  {
   "cell_type": "code",
   "execution_count": 11,
   "metadata": {},
   "outputs": [],
   "source": [
    "y_pred=regressor.predict(X_test)"
   ]
  },
  {
   "cell_type": "code",
   "execution_count": 15,
   "metadata": {},
   "outputs": [
    {
     "output_type": "execute_result",
     "data": {
      "text/plain": [
       "<class 'statsmodels.iolib.summary.Summary'>\n",
       "\"\"\"\n",
       "                            OLS Regression Results                            \n",
       "==============================================================================\n",
       "Dep. Variable:         bobot 100 biji   R-squared:                       0.720\n",
       "Model:                            OLS   Adj. R-squared:                  0.685\n",
       "Method:                 Least Squares   F-statistic:                     20.55\n",
       "Date:                Tue, 03 Nov 2020   Prob (F-statistic):           4.13e-10\n",
       "Time:                        20:50:16   Log-Likelihood:                -109.01\n",
       "No. Observations:                  46   AIC:                             230.0\n",
       "Df Residuals:                      40   BIC:                             241.0\n",
       "Df Model:                           5                                         \n",
       "Covariance Type:            nonrobust                                         \n",
       "==============================================================================\n",
       "                 coef    std err          t      P>|t|      [0.025      0.975]\n",
       "------------------------------------------------------------------------------\n",
       "const        -23.5490      6.770     -3.478      0.001     -37.232      -9.866\n",
       "x1             0.0726      0.050      1.439      0.158      -0.029       0.175\n",
       "x2             5.4098      0.863      6.272      0.000       3.666       7.153\n",
       "x3            -2.0353      1.942     -1.048      0.301      -5.960       1.889\n",
       "x4             0.3749      1.545      0.243      0.809      -2.747       3.497\n",
       "x5            -0.1794      0.298     -0.602      0.550      -0.782       0.423\n",
       "==============================================================================\n",
       "Omnibus:                        2.562   Durbin-Watson:                   1.623\n",
       "Prob(Omnibus):                  0.278   Jarque-Bera (JB):                2.367\n",
       "Skew:                           0.537   Prob(JB):                        0.306\n",
       "Kurtosis:                       2.712   Cond. No.                         551.\n",
       "==============================================================================\n",
       "\n",
       "Warnings:\n",
       "[1] Standard Errors assume that the covariance matrix of the errors is correctly specified.\n",
       "\"\"\""
      ],
      "text/html": "<table class=\"simpletable\">\n<caption>OLS Regression Results</caption>\n<tr>\n  <th>Dep. Variable:</th>     <td>bobot 100 biji</td>  <th>  R-squared:         </th> <td>   0.720</td>\n</tr>\n<tr>\n  <th>Model:</th>                   <td>OLS</td>       <th>  Adj. R-squared:    </th> <td>   0.685</td>\n</tr>\n<tr>\n  <th>Method:</th>             <td>Least Squares</td>  <th>  F-statistic:       </th> <td>   20.55</td>\n</tr>\n<tr>\n  <th>Date:</th>             <td>Tue, 03 Nov 2020</td> <th>  Prob (F-statistic):</th> <td>4.13e-10</td>\n</tr>\n<tr>\n  <th>Time:</th>                 <td>20:50:16</td>     <th>  Log-Likelihood:    </th> <td> -109.01</td>\n</tr>\n<tr>\n  <th>No. Observations:</th>      <td>    46</td>      <th>  AIC:               </th> <td>   230.0</td>\n</tr>\n<tr>\n  <th>Df Residuals:</th>          <td>    40</td>      <th>  BIC:               </th> <td>   241.0</td>\n</tr>\n<tr>\n  <th>Df Model:</th>              <td>     5</td>      <th>                     </th>     <td> </td>   \n</tr>\n<tr>\n  <th>Covariance Type:</th>      <td>nonrobust</td>    <th>                     </th>     <td> </td>   \n</tr>\n</table>\n<table class=\"simpletable\">\n<tr>\n    <td></td>       <th>coef</th>     <th>std err</th>      <th>t</th>      <th>P>|t|</th>  <th>[0.025</th>    <th>0.975]</th>  \n</tr>\n<tr>\n  <th>const</th> <td>  -23.5490</td> <td>    6.770</td> <td>   -3.478</td> <td> 0.001</td> <td>  -37.232</td> <td>   -9.866</td>\n</tr>\n<tr>\n  <th>x1</th>    <td>    0.0726</td> <td>    0.050</td> <td>    1.439</td> <td> 0.158</td> <td>   -0.029</td> <td>    0.175</td>\n</tr>\n<tr>\n  <th>x2</th>    <td>    5.4098</td> <td>    0.863</td> <td>    6.272</td> <td> 0.000</td> <td>    3.666</td> <td>    7.153</td>\n</tr>\n<tr>\n  <th>x3</th>    <td>   -2.0353</td> <td>    1.942</td> <td>   -1.048</td> <td> 0.301</td> <td>   -5.960</td> <td>    1.889</td>\n</tr>\n<tr>\n  <th>x4</th>    <td>    0.3749</td> <td>    1.545</td> <td>    0.243</td> <td> 0.809</td> <td>   -2.747</td> <td>    3.497</td>\n</tr>\n<tr>\n  <th>x5</th>    <td>   -0.1794</td> <td>    0.298</td> <td>   -0.602</td> <td> 0.550</td> <td>   -0.782</td> <td>    0.423</td>\n</tr>\n</table>\n<table class=\"simpletable\">\n<tr>\n  <th>Omnibus:</th>       <td> 2.562</td> <th>  Durbin-Watson:     </th> <td>   1.623</td>\n</tr>\n<tr>\n  <th>Prob(Omnibus):</th> <td> 0.278</td> <th>  Jarque-Bera (JB):  </th> <td>   2.367</td>\n</tr>\n<tr>\n  <th>Skew:</th>          <td> 0.537</td> <th>  Prob(JB):          </th> <td>   0.306</td>\n</tr>\n<tr>\n  <th>Kurtosis:</th>      <td> 2.712</td> <th>  Cond. No.          </th> <td>    551.</td>\n</tr>\n</table><br/><br/>Warnings:<br/>[1] Standard Errors assume that the covariance matrix of the errors is correctly specified."
     },
     "metadata": {},
     "execution_count": 15
    }
   ],
   "source": [
    "import statsmodels.api as sm\n",
    "X_new = sm.add_constant(X)\n",
    "X_opt = X_new[:, [0, 1, 2, 3, 4, 5]]\n",
    "regressor_OLS = sm.OLS(endog = y, exog = X_opt)\n",
    "hasil = regressor_OLS.fit()\n",
    "hasil.summary()"
   ]
  },
  {
   "cell_type": "code",
   "execution_count": null,
   "metadata": {},
   "outputs": [],
   "source": []
  }
 ]
}