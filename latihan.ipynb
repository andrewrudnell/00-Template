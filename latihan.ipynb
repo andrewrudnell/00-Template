{
 "metadata": {
  "language_info": {
   "codemirror_mode": {
    "name": "ipython",
    "version": 3
   },
   "file_extension": ".py",
   "mimetype": "text/x-python",
   "name": "python",
   "nbconvert_exporter": "python",
   "pygments_lexer": "ipython3",
   "version": "3.7.3-final"
  },
  "orig_nbformat": 2,
  "kernelspec": {
   "name": "python3",
   "display_name": "Python 3"
  }
 },
 "nbformat": 4,
 "nbformat_minor": 2,
 "cells": [
  {
   "cell_type": "code",
   "execution_count": 4,
   "metadata": {},
   "outputs": [],
   "source": [
    "import pandas as pd\n",
    "import os"
   ]
  },
  {
   "cell_type": "code",
   "execution_count": 5,
   "metadata": {},
   "outputs": [
    {
     "output_type": "execute_result",
     "data": {
      "text/plain": [
       "'/Users/andrewyoel/Downloads/tutorial python/00-Template'"
      ]
     },
     "metadata": {},
     "execution_count": 5
    }
   ],
   "source": [
    "os.getcwd()"
   ]
  },
  {
   "cell_type": "code",
   "execution_count": 6,
   "metadata": {},
   "outputs": [],
   "source": [
    "os.chdir('/Users/andrewyoel/Downloads/tutorial python/')"
   ]
  },
  {
   "cell_type": "code",
   "execution_count": 7,
   "metadata": {},
   "outputs": [],
   "source": [
    "df= pd.read_excel('data kedelai skripsi .xlsx')"
   ]
  },
  {
   "cell_type": "code",
   "execution_count": 24,
   "metadata": {},
   "outputs": [
    {
     "output_type": "execute_result",
     "data": {
      "text/plain": [
       "  genotipe  diamater  jumlah buku  bobot 100 biji  jumlah biji  jumlah polong  \\\n",
       "0    82.17      4.55           11            25.4           64             24   \n",
       "1    82.17      4.23           10            21.6           28             11   \n",
       "2     39.3      5.73           11            27.7           99             41   \n",
       "3     39.3      4.94            9            28.6           75             30   \n",
       "4    79.13      4.50            9            26.9           35             15   \n",
       "\n",
       "       PB     LB     TB  jumlah cabang  tinggi tanaman  \n",
       "0  11.488  7.382  4.926              9       62.000000  \n",
       "1  11.196  7.544  4.872              8       61.000000  \n",
       "2  12.216  7.238  5.054              7       52.766667  \n",
       "3  12.358  7.370  5.196              6       69.700000  \n",
       "4  11.972  7.410  5.140              7       52.250000  "
      ],
      "text/html": "<div>\n<style scoped>\n    .dataframe tbody tr th:only-of-type {\n        vertical-align: middle;\n    }\n\n    .dataframe tbody tr th {\n        vertical-align: top;\n    }\n\n    .dataframe thead th {\n        text-align: right;\n    }\n</style>\n<table border=\"1\" class=\"dataframe\">\n  <thead>\n    <tr style=\"text-align: right;\">\n      <th></th>\n      <th>genotipe</th>\n      <th>diamater</th>\n      <th>jumlah buku</th>\n      <th>bobot 100 biji</th>\n      <th>jumlah biji</th>\n      <th>jumlah polong</th>\n      <th>PB</th>\n      <th>LB</th>\n      <th>TB</th>\n      <th>jumlah cabang</th>\n      <th>tinggi tanaman</th>\n    </tr>\n  </thead>\n  <tbody>\n    <tr>\n      <th>0</th>\n      <td>82.17</td>\n      <td>4.55</td>\n      <td>11</td>\n      <td>25.4</td>\n      <td>64</td>\n      <td>24</td>\n      <td>11.488</td>\n      <td>7.382</td>\n      <td>4.926</td>\n      <td>9</td>\n      <td>62.000000</td>\n    </tr>\n    <tr>\n      <th>1</th>\n      <td>82.17</td>\n      <td>4.23</td>\n      <td>10</td>\n      <td>21.6</td>\n      <td>28</td>\n      <td>11</td>\n      <td>11.196</td>\n      <td>7.544</td>\n      <td>4.872</td>\n      <td>8</td>\n      <td>61.000000</td>\n    </tr>\n    <tr>\n      <th>2</th>\n      <td>39.3</td>\n      <td>5.73</td>\n      <td>11</td>\n      <td>27.7</td>\n      <td>99</td>\n      <td>41</td>\n      <td>12.216</td>\n      <td>7.238</td>\n      <td>5.054</td>\n      <td>7</td>\n      <td>52.766667</td>\n    </tr>\n    <tr>\n      <th>3</th>\n      <td>39.3</td>\n      <td>4.94</td>\n      <td>9</td>\n      <td>28.6</td>\n      <td>75</td>\n      <td>30</td>\n      <td>12.358</td>\n      <td>7.370</td>\n      <td>5.196</td>\n      <td>6</td>\n      <td>69.700000</td>\n    </tr>\n    <tr>\n      <th>4</th>\n      <td>79.13</td>\n      <td>4.50</td>\n      <td>9</td>\n      <td>26.9</td>\n      <td>35</td>\n      <td>15</td>\n      <td>11.972</td>\n      <td>7.410</td>\n      <td>5.140</td>\n      <td>7</td>\n      <td>52.250000</td>\n    </tr>\n  </tbody>\n</table>\n</div>"
     },
     "metadata": {},
     "execution_count": 24
    }
   ],
   "source": [
    "df.head()"
   ]
  },
  {
   "cell_type": "code",
   "execution_count": 9,
   "metadata": {},
   "outputs": [],
   "source": [
    "X = df.iloc[:, 6:9].values\n",
    "y = df.iloc[:,3:4]"
   ]
  },
  {
   "cell_type": "code",
   "execution_count": 10,
   "metadata": {},
   "outputs": [],
   "source": [
    "from sklearn.preprocessing import OneHotEncoder\n",
    "from sklearn.compose import ColumnTransformer\n",
    "from sklearn.model_selection import train_test_split"
   ]
  },
  {
   "cell_type": "code",
   "execution_count": 13,
   "metadata": {},
   "outputs": [],
   "source": [
    "X_train, X_test, y_train, y_test =train_test_split(X,y, test_size = 0.2, random_state = 0)"
   ]
  },
  {
   "cell_type": "code",
   "execution_count": 14,
   "metadata": {},
   "outputs": [
    {
     "output_type": "execute_result",
     "data": {
      "text/plain": [
       "LinearRegression(copy_X=True, fit_intercept=True, n_jobs=None, normalize=False)"
      ]
     },
     "metadata": {},
     "execution_count": 14
    }
   ],
   "source": [
    "from sklearn.linear_model import LinearRegression\n",
    "regressor = LinearRegression()\n",
    "regressor.fit(X_train, y_train)"
   ]
  },
  {
   "cell_type": "code",
   "execution_count": 45,
   "metadata": {},
   "outputs": [],
   "source": [
    "# B100 = 4.7842 PB  -28.5485 (persamaan regresi)"
   ]
  },
  {
   "cell_type": "code",
   "execution_count": 15,
   "metadata": {},
   "outputs": [
    {
     "output_type": "execute_result",
     "data": {
      "text/plain": [
       "<class 'statsmodels.iolib.summary.Summary'>\n",
       "\"\"\"\n",
       "                            OLS Regression Results                            \n",
       "==============================================================================\n",
       "Dep. Variable:         bobot 100 biji   R-squared:                       0.687\n",
       "Model:                            OLS   Adj. R-squared:                  0.680\n",
       "Method:                 Least Squares   F-statistic:                     96.43\n",
       "Date:                Fri, 20 Nov 2020   Prob (F-statistic):           1.17e-12\n",
       "Time:                        09:06:13   Log-Likelihood:                -111.58\n",
       "No. Observations:                  46   AIC:                             227.2\n",
       "Df Residuals:                      44   BIC:                             230.8\n",
       "Df Model:                           1                                         \n",
       "Covariance Type:            nonrobust                                         \n",
       "==============================================================================\n",
       "                 coef    std err          t      P>|t|      [0.025      0.975]\n",
       "------------------------------------------------------------------------------\n",
       "const        -28.5485      5.759     -4.957      0.000     -40.156     -16.941\n",
       "x1             4.7842      0.487      9.820      0.000       3.802       5.766\n",
       "==============================================================================\n",
       "Omnibus:                        7.786   Durbin-Watson:                   1.844\n",
       "Prob(Omnibus):                  0.020   Jarque-Bera (JB):                6.975\n",
       "Skew:                           0.927   Prob(JB):                       0.0306\n",
       "Kurtosis:                       3.451   Cond. No.                         166.\n",
       "==============================================================================\n",
       "\n",
       "Warnings:\n",
       "[1] Standard Errors assume that the covariance matrix of the errors is correctly specified.\n",
       "\"\"\""
      ],
      "text/html": "<table class=\"simpletable\">\n<caption>OLS Regression Results</caption>\n<tr>\n  <th>Dep. Variable:</th>     <td>bobot 100 biji</td>  <th>  R-squared:         </th> <td>   0.687</td>\n</tr>\n<tr>\n  <th>Model:</th>                   <td>OLS</td>       <th>  Adj. R-squared:    </th> <td>   0.680</td>\n</tr>\n<tr>\n  <th>Method:</th>             <td>Least Squares</td>  <th>  F-statistic:       </th> <td>   96.43</td>\n</tr>\n<tr>\n  <th>Date:</th>             <td>Fri, 20 Nov 2020</td> <th>  Prob (F-statistic):</th> <td>1.17e-12</td>\n</tr>\n<tr>\n  <th>Time:</th>                 <td>09:06:13</td>     <th>  Log-Likelihood:    </th> <td> -111.58</td>\n</tr>\n<tr>\n  <th>No. Observations:</th>      <td>    46</td>      <th>  AIC:               </th> <td>   227.2</td>\n</tr>\n<tr>\n  <th>Df Residuals:</th>          <td>    44</td>      <th>  BIC:               </th> <td>   230.8</td>\n</tr>\n<tr>\n  <th>Df Model:</th>              <td>     1</td>      <th>                     </th>     <td> </td>   \n</tr>\n<tr>\n  <th>Covariance Type:</th>      <td>nonrobust</td>    <th>                     </th>     <td> </td>   \n</tr>\n</table>\n<table class=\"simpletable\">\n<tr>\n    <td></td>       <th>coef</th>     <th>std err</th>      <th>t</th>      <th>P>|t|</th>  <th>[0.025</th>    <th>0.975]</th>  \n</tr>\n<tr>\n  <th>const</th> <td>  -28.5485</td> <td>    5.759</td> <td>   -4.957</td> <td> 0.000</td> <td>  -40.156</td> <td>  -16.941</td>\n</tr>\n<tr>\n  <th>x1</th>    <td>    4.7842</td> <td>    0.487</td> <td>    9.820</td> <td> 0.000</td> <td>    3.802</td> <td>    5.766</td>\n</tr>\n</table>\n<table class=\"simpletable\">\n<tr>\n  <th>Omnibus:</th>       <td> 7.786</td> <th>  Durbin-Watson:     </th> <td>   1.844</td>\n</tr>\n<tr>\n  <th>Prob(Omnibus):</th> <td> 0.020</td> <th>  Jarque-Bera (JB):  </th> <td>   6.975</td>\n</tr>\n<tr>\n  <th>Skew:</th>          <td> 0.927</td> <th>  Prob(JB):          </th> <td>  0.0306</td>\n</tr>\n<tr>\n  <th>Kurtosis:</th>      <td> 3.451</td> <th>  Cond. No.          </th> <td>    166.</td>\n</tr>\n</table><br/><br/>Warnings:<br/>[1] Standard Errors assume that the covariance matrix of the errors is correctly specified."
     },
     "metadata": {},
     "execution_count": 15
    }
   ],
   "source": [
    "import statsmodels.api as sm\n",
    "X_new = sm.add_constant(X)\n",
    "X_opt = X_new[:, [0, 1]]\n",
    "regressor_OLS = sm.OLS(endog = y, exog = X_opt)\n",
    "hasil = regressor_OLS.fit()\n",
    "hasil.summary()"
   ]
  },
  {
   "cell_type": "code",
   "execution_count": 18,
   "metadata": {},
   "outputs": [
    {
     "output_type": "execute_result",
     "data": {
      "text/plain": [
       "array([0.45246143, 0.11010814, 0.73662919, 0.32273066, 0.39235605])"
      ]
     },
     "metadata": {},
     "execution_count": 18
    }
   ],
   "source": [
    "from sklearn.model_selection import cross_val_score\n",
    "scores = cross_val_score(regressor, X_train, y_train, cv=5)\n",
    "scores"
   ]
  },
  {
   "cell_type": "code",
   "execution_count": 17,
   "metadata": {},
   "outputs": [
    {
     "output_type": "stream",
     "name": "stdout",
     "text": [
      "0.4028570931880875\n"
     ]
    }
   ],
   "source": [
    "print (scores.mean())"
   ]
  },
  {
   "cell_type": "code",
   "execution_count": null,
   "metadata": {},
   "outputs": [],
   "source": []
  }
 ]
}